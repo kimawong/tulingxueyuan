{
 "cells": [
  {
   "cell_type": "markdown",
   "metadata": {},
   "source": [
    "# 三大结构\n",
    "- 顺序\n",
    "- 分支\n",
    "- 循环"
   ]
  },
  {
   "cell_type": "markdown",
   "metadata": {},
   "source": [
    "# 分支\n",
    "- 分支的基本语法\n",
    "\n",
    "        if 条件表达式：\n",
    "            语句1\n",
    "            语句2\n",
    "            ......\n",
    "- 条件表达式就是计算结果必须为布尔值的表达式\n",
    "- 表达式后面的冒号‘：’不能少\n",
    "- 注意if后面的出现的语句，如果属于if语句块，则必须同一个缩进等级\n",
    "- 条件表达式结果为True执行if后面 缩进 的语句块"
   ]
  },
  {
   "cell_type": "code",
   "execution_count": 1,
   "metadata": {},
   "outputs": [
    {
     "name": "stdout",
     "output_type": "stream",
     "text": [
      "去叫家长吧\n",
      "我们不带你玩\n",
      "bye\n"
     ]
    }
   ],
   "source": [
    "# if语句练习\n",
    "# 如果age小于18，则打印叫家长\n",
    "age = 17\n",
    "if age < 18:\n",
    "    print(\"去叫家长吧\")\n",
    "    print(\"我们不带你玩\")\n",
    "    print(\"bye\")"
   ]
  },
  {
   "cell_type": "code",
   "execution_count": 9,
   "metadata": {},
   "outputs": [
    {
     "name": "stdout",
     "output_type": "stream",
     "text": [
      "上车\n"
     ]
    }
   ],
   "source": [
    "# if语句练习\n",
    "# 如果age小于18，则打印叫家长\n",
    "age = 19\n",
    "if age < 18:\n",
    "    print(\"去叫家长吧\")\n",
    "    print(\"我们不带你玩\")\n",
    "    print(\"bye\")\n",
    "    \n",
    "print(\"上车\")"
   ]
  },
  {
   "cell_type": "code",
   "execution_count": 12,
   "metadata": {},
   "outputs": [
    {
     "name": "stdout",
     "output_type": "stream",
     "text": [
      "今天学习for循环\n",
      "开始讲for循环了\n"
     ]
    }
   ],
   "source": [
    "print(\"今天学习for循环\")\n",
    "gender = \"男\"\n",
    "if gender == \"女\":\n",
    "    print(\"给糖\")\n",
    "print(\"开始讲for循环了\")"
   ]
  },
  {
   "cell_type": "markdown",
   "metadata": {},
   "source": [
    "### 双向分支\n",
    "- if...else..语句\n",
    "\n",
    "        if 条件表达式:\n",
    "            语句1\n",
    "            语句2\n",
    "            ...\n",
    "        else:\n",
    "            语句1\n",
    "            语句2\n",
    "            ...\n",
    "            \n",
    "- 双向分支有两个分支，当程序执行到if...else...语句的时候，一定会执行其中一个，也仅一个\n",
    "- 注意缩进\n"
   ]
  },
  {
   "cell_type": "code",
   "execution_count": null,
   "metadata": {
    "collapsed": true
   },
   "outputs": [],
   "source": [
    "gender = input(\"请输入性别：\")\n",
    "print(\"你输入的性别是：{0}\".format(gender))\n",
    "\n",
    "if gender == \"man\":\n",
    "    print(\"来纪念一下今天\")\n",
    "else:\n",
    "        print(\"发糖喽\")\n",
    "        print(\"你是女生特别照顾\")\n",
    "        \n",
    "print(\"开始上课喽\")        "
   ]
  },
  {
   "cell_type": "code",
   "execution_count": 21,
   "metadata": {},
   "outputs": [
    {
     "name": "stdout",
     "output_type": "stream",
     "text": [
      "输入学生成绩：48\n",
      "没你这学生\n"
     ]
    }
   ],
   "source": [
    "# 考试成绩判断\n",
    "# 90以上：优秀\n",
    "# 80-90 良\n",
    "# 70-80 中\n",
    "# 60-70 平\n",
    "# 60以下 没你这学生\n",
    "# score 存放学生成绩\n",
    "score = input(\"输入学生成绩：\")\n",
    "# 需要吧字符串str转换成int\n",
    "score = int(score)\n",
    "if score>90:\n",
    "    print(\"A\")\n",
    "if score>=80 and score<90:\n",
    "    print(\"B\")\n",
    "if score>=70 and score<80:\n",
    "    print(\"C\")\n",
    "if score>=60 and score<70:\n",
    "    print(\"D\")\n",
    "if score < 60 and score >0:\n",
    "    print(\"没你这学生\")"
   ]
  },
  {
   "cell_type": "markdown",
   "metadata": {},
   "source": [
    "## 多路分支\n",
    "- 很多分支的情况，简称多路分支\n",
    "\n",
    "        if 条件表达式：\n",
    "            语句1\n",
    "            ...\n",
    "        elif 条件表达式：\n",
    "            语句1\n",
    "        elif 条件表达式：\n",
    "            语句1\n",
    "            ...\n",
    "        else:\n",
    "            语句1\n",
    "            ...\n",
    "- else 可以很多 可以没有\n",
    "- 只选一个"
   ]
  },
  {
   "cell_type": "code",
   "execution_count": 2,
   "metadata": {},
   "outputs": [
    {
     "name": "stdout",
     "output_type": "stream",
     "text": [
      "输入学生成绩：76\n",
      "C\n"
     ]
    }
   ],
   "source": [
    "# 考试成绩判断\n",
    "# score 存放学生成绩\n",
    "score = input(\"输入学生成绩：\")\n",
    "# 需要吧字符串str转换成int\n",
    "score = int(score)\n",
    "\n",
    "if score>=90:\n",
    "    print(\"A\")\n",
    "elif score >= 80:\n",
    "    print(\"B\")\n",
    "elif score>=70:\n",
    "    print(\"C\")\n",
    "elif score>=60:\n",
    "    print(\"D\")\n",
    "else:\n",
    "    print(\"没你这学生\")\n",
    "    "
   ]
  },
  {
   "cell_type": "markdown",
   "metadata": {
    "collapsed": true
   },
   "source": [
    "## if语句其他：\n",
    "- if可以嵌套使用，但不推荐\n",
    "- Python 没有switch-case语句"
   ]
  },
  {
   "cell_type": "markdown",
   "metadata": {
    "collapsed": true
   },
   "source": [
    "# 循环语句\n",
    "- 重复执行某些固定动作或者处理基本固定的事物\n",
    "- 分类\n",
    "    - for循环\n",
    "    - while循环\n",
    "## for循环\n",
    "- for循环\n",
    "\n",
    "        for 变量 in 序列：\n",
    "            语句1\n",
    "            语句2\n",
    "            ..."
   ]
  },
  {
   "cell_type": "code",
   "execution_count": 4,
   "metadata": {},
   "outputs": [
    {
     "name": "stdout",
     "output_type": "stream",
     "text": [
      "moumojo\n",
      "jfsdl\n",
      "fsadf\n"
     ]
    }
   ],
   "source": [
    "# 列表就是一列数字或者其他值，一般用中括号表示\n",
    "# 例如 ['moumojo', 'jfsdl', 'fsadf']\n",
    "\n",
    "# 打印学生列表姓名\n",
    "for name in ['moumojo', 'jfsdl', 'fsadf']:\n",
    "    print(name)"
   ]
  },
  {
   "cell_type": "code",
   "execution_count": 6,
   "metadata": {},
   "outputs": [
    {
     "name": "stdout",
     "output_type": "stream",
     "text": [
      "moumojo\n",
      "我的最爱moumojo出现了\n",
      "jfsdl\n",
      "不约\n",
      "fsadf\n",
      "不约\n"
     ]
    }
   ],
   "source": [
    "# 打印学生列表姓名\n",
    "# 如果是moumojo，那是我的最爱\n",
    "# 如果是别的，冷酷拒绝\n",
    "for name in ['moumojo', 'jfsdl', 'fsadf']:\n",
    "    print(name)\n",
    "    if name == 'moumojo':\n",
    "        print(\"我的最爱{0}出现了\".format(name))\n",
    "    else:\n",
    "        print(\"不约\")"
   ]
  },
  {
   "cell_type": "markdown",
   "metadata": {},
   "source": [
    "## range介绍\n",
    "- 生成一个数字序列\n",
    "- 具体范围可以设定"
   ]
  },
  {
   "cell_type": "code",
   "execution_count": 9,
   "metadata": {},
   "outputs": [
    {
     "name": "stdout",
     "output_type": "stream",
     "text": [
      "1\n",
      "2\n",
      "3\n",
      "4\n",
      "5\n",
      "6\n",
      "7\n",
      "8\n",
      "9\n",
      "10\n"
     ]
    }
   ],
   "source": [
    "# rang练习\n",
    "# 打印1-10\n",
    "#注意，一般在Python中，如果由表示数字范围的两个数，一般是 包含 左边，不包含 右边\n",
    "# rangint 是特例，都包含\n",
    "# range函数在Python2和3中有严重的区别\n",
    "for i in range(1, 11):\n",
    "    print(i)"
   ]
  },
  {
   "cell_type": "markdown",
   "metadata": {},
   "source": [
    "## for-else语句\n",
    "- 当for循环结束的时候，会执行else语句\n",
    "- else语句是可选语句"
   ]
  },
  {
   "cell_type": "code",
   "execution_count": 11,
   "metadata": {},
   "outputs": [
    {
     "name": "stdout",
     "output_type": "stream",
     "text": [
      "moumojo\n",
      "我的最爱moumojo出现了\n",
      "jfsdl\n",
      "不约\n",
      "fsadf\n",
      "不约\n",
      "别的不是我的学生\n"
     ]
    }
   ],
   "source": [
    "# for-else语句\n",
    "# 打印列表\n",
    "\n",
    "for name in ['moumojo', 'jfsdl', 'fsadf']:\n",
    "    print(name)\n",
    "    if name == 'moumojo':\n",
    "        print(\"我的最爱{0}出现了\".format(name))\n",
    "    else:\n",
    "        print(\"不约\")\n",
    "else:\n",
    "    print(\"别的不是我的学生\")"
   ]
  },
  {
   "cell_type": "markdown",
   "metadata": {},
   "source": [
    "## for循环之break,continue,pass\n",
    "- break: 无条件结束整个循环,简称猝死\n",
    "- continue: 无条件结束本次循环, 重新进入下一轮循环\n",
    "- pass: 表示略过,通常用于占位"
   ]
  },
  {
   "cell_type": "code",
   "execution_count": 16,
   "metadata": {},
   "outputs": [
    {
     "name": "stdout",
     "output_type": "stream",
     "text": [
      "1\n",
      "2\n",
      "3\n",
      "4\n",
      "5\n",
      "6\n",
      "我找到了\n"
     ]
    }
   ],
   "source": [
    "# 在数字1-10中,寻找数字7, 一旦找到, 打印\n",
    "# for 循环中的变量表示, 一般用i, k, m, n 或者 indx, idx, item\n",
    "# 在Python中, 如果循环变量名不重要,可以用 '_' 代替\n",
    "for i in range(1,11):\n",
    "    if i == 7:\n",
    "        print(\"我找到了\")\n",
    "        break\n",
    "    else:\n",
    "        print(i)\n",
    "    \n"
   ]
  },
  {
   "cell_type": "code",
   "execution_count": 19,
   "metadata": {},
   "outputs": [
    {
     "name": "stdout",
     "output_type": "stream",
     "text": [
      "2是偶数\n",
      "4是偶数\n",
      "6是偶数\n",
      "8是偶数\n",
      "10是偶数\n"
     ]
    }
   ],
   "source": [
    "# continue语句\n",
    "# 在数字1-10中,打印偶数\n",
    "\n",
    "for i in range(1,11):\n",
    "    if i % 2 == 1:\n",
    "        continue\n",
    "    else:\n",
    "        print(\"{0}是偶数\".format(i))"
   ]
  },
  {
   "cell_type": "code",
   "execution_count": 24,
   "metadata": {},
   "outputs": [
    {
     "name": "stdout",
     "output_type": "stream",
     "text": [
      "2是偶数\n",
      "4是偶数\n",
      "6是偶数\n",
      "8是偶数\n",
      "10是偶数\n"
     ]
    }
   ],
   "source": [
    "# continue语句 2\n",
    "# 在数字1-10中,打印偶数\n",
    "\n",
    "for i in range(1,11):\n",
    "    if i % 2 == 0:\n",
    "        print(\"{0}是偶数\".format(i))"
   ]
  },
  {
   "cell_type": "code",
   "execution_count": 27,
   "metadata": {},
   "outputs": [
    {
     "name": "stdout",
     "output_type": "stream",
     "text": [
      "2是偶数\n",
      "4是偶数\n",
      "6是偶数\n",
      "8是偶数\n",
      "10是偶数\n"
     ]
    }
   ],
   "source": [
    "# continue语句 3\n",
    "# 在数字1-10中,打印偶数\n",
    "# 本案例完整显示continue的用法和作用\n",
    "for i in range(1,11):\n",
    "    if i % 2 == 1:\n",
    "        continue\n",
    "        \n",
    "    print(\"{0}是偶数\".format(i))"
   ]
  },
  {
   "cell_type": "code",
   "execution_count": 29,
   "metadata": {},
   "outputs": [
    {
     "name": "stdout",
     "output_type": "stream",
     "text": [
      "wozaizheli\n",
      "wozaizheli\n",
      "wozaizheli\n",
      "wozaizheli\n",
      "wozaizheli\n",
      "wozaizheli\n",
      "wozaizheli\n",
      "wozaizheli\n",
      "wozaizheli\n",
      "wozaizheli\n"
     ]
    }
   ],
   "source": [
    "# pass例子, 一般用于占位\n",
    "# 没有跳过功能\n",
    "for i in range(1,11):\n",
    "    pass\n",
    "    print(\"wozaizheli\")"
   ]
  }
 ],
 "metadata": {
  "kernelspec": {
   "display_name": "Python 3",
   "language": "python",
   "name": "python3"
  },
  "language_info": {
   "codemirror_mode": {
    "name": "ipython",
    "version": 3
   },
   "file_extension": ".py",
   "mimetype": "text/x-python",
   "name": "python",
   "nbconvert_exporter": "python",
   "pygments_lexer": "ipython3",
   "version": "3.6.3"
  }
 },
 "nbformat": 4,
 "nbformat_minor": 2
}
